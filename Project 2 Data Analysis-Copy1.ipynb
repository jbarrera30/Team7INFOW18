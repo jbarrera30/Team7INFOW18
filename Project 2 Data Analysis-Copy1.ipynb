{
 "cells": [
  {
   "cell_type": "code",
   "execution_count": 32,
   "metadata": {},
   "outputs": [],
   "source": [
    "# import the data\n",
    "import pandas as pd\n",
    "import matplotlib.pyplot as plt\n",
    "\n",
    "pd.options.display.float_format = '{:,.2f}'.format\n",
    "%matplotlib inline\n",
    "\n",
    "df = pd.read_csv('Crimes_-_2001_to_Present.csv.crdownload')\n",
    "\n",
    "cbdf = pd.read_csv('chibulls_rawyearstats - sportsref_download (1).csv')"
   ]
  },
  {
   "cell_type": "code",
   "execution_count": 10,
   "metadata": {},
   "outputs": [
    {
     "name": "stdout",
     "output_type": "stream",
     "text": [
      "(7165841, 22)\n"
     ]
    }
   ],
   "source": [
    "print(df.shape)"
   ]
  },
  {
   "cell_type": "code",
   "execution_count": 33,
   "metadata": {},
   "outputs": [
    {
     "name": "stdout",
     "output_type": "stream",
     "text": [
      "(54, 19)\n"
     ]
    }
   ],
   "source": [
    "print(cbdf.shape)"
   ]
  },
  {
   "cell_type": "code",
   "execution_count": 11,
   "metadata": {
    "scrolled": true
   },
   "outputs": [
    {
     "data": {
      "text/plain": [
       "Index(['ID', 'Case Number', 'Date', 'Block', 'IUCR', 'Primary Type',\n",
       "       'Description', 'Location Description', 'Arrest', 'Domestic', 'Beat',\n",
       "       'District', 'Ward', 'Community Area', 'FBI Code', 'X Coordinate',\n",
       "       'Y Coordinate', 'Year', 'Updated On', 'Latitude', 'Longitude',\n",
       "       'Location'],\n",
       "      dtype='object')"
      ]
     },
     "execution_count": 11,
     "metadata": {},
     "output_type": "execute_result"
    }
   ],
   "source": [
    "df.columns"
   ]
  },
  {
   "cell_type": "code",
   "execution_count": 9,
   "metadata": {
    "scrolled": true
   },
   "outputs": [
    {
     "data": {
      "text/html": [
       "<div>\n",
       "<style scoped>\n",
       "    .dataframe tbody tr th:only-of-type {\n",
       "        vertical-align: middle;\n",
       "    }\n",
       "\n",
       "    .dataframe tbody tr th {\n",
       "        vertical-align: top;\n",
       "    }\n",
       "\n",
       "    .dataframe thead th {\n",
       "        text-align: right;\n",
       "    }\n",
       "</style>\n",
       "<table border=\"1\" class=\"dataframe\">\n",
       "  <thead>\n",
       "    <tr style=\"text-align: right;\">\n",
       "      <th></th>\n",
       "      <th>ID</th>\n",
       "      <th>Case Number</th>\n",
       "      <th>Date</th>\n",
       "      <th>Block</th>\n",
       "      <th>IUCR</th>\n",
       "      <th>Primary Type</th>\n",
       "      <th>Description</th>\n",
       "      <th>Location Description</th>\n",
       "      <th>Arrest</th>\n",
       "      <th>Domestic</th>\n",
       "      <th>...</th>\n",
       "      <th>Ward</th>\n",
       "      <th>Community Area</th>\n",
       "      <th>FBI Code</th>\n",
       "      <th>X Coordinate</th>\n",
       "      <th>Y Coordinate</th>\n",
       "      <th>Year</th>\n",
       "      <th>Updated On</th>\n",
       "      <th>Latitude</th>\n",
       "      <th>Longitude</th>\n",
       "      <th>Location</th>\n",
       "    </tr>\n",
       "  </thead>\n",
       "  <tbody>\n",
       "    <tr>\n",
       "      <th>0</th>\n",
       "      <td>11034701</td>\n",
       "      <td>JA366925</td>\n",
       "      <td>01/01/2001 11:00:00 AM</td>\n",
       "      <td>016XX E 86TH PL</td>\n",
       "      <td>1153</td>\n",
       "      <td>DECEPTIVE PRACTICE</td>\n",
       "      <td>FINANCIAL IDENTITY THEFT OVER $ 300</td>\n",
       "      <td>RESIDENCE</td>\n",
       "      <td>False</td>\n",
       "      <td>False</td>\n",
       "      <td>...</td>\n",
       "      <td>8.00</td>\n",
       "      <td>45.00</td>\n",
       "      <td>11</td>\n",
       "      <td>nan</td>\n",
       "      <td>nan</td>\n",
       "      <td>2001</td>\n",
       "      <td>08/05/2017 03:50:08 PM</td>\n",
       "      <td>nan</td>\n",
       "      <td>nan</td>\n",
       "      <td>NaN</td>\n",
       "    </tr>\n",
       "    <tr>\n",
       "      <th>1</th>\n",
       "      <td>11227287</td>\n",
       "      <td>JB147188</td>\n",
       "      <td>10/08/2017 03:00:00 AM</td>\n",
       "      <td>092XX S RACINE AVE</td>\n",
       "      <td>0281</td>\n",
       "      <td>CRIM SEXUAL ASSAULT</td>\n",
       "      <td>NON-AGGRAVATED</td>\n",
       "      <td>RESIDENCE</td>\n",
       "      <td>False</td>\n",
       "      <td>False</td>\n",
       "      <td>...</td>\n",
       "      <td>21.00</td>\n",
       "      <td>73.00</td>\n",
       "      <td>02</td>\n",
       "      <td>nan</td>\n",
       "      <td>nan</td>\n",
       "      <td>2017</td>\n",
       "      <td>02/11/2018 03:57:41 PM</td>\n",
       "      <td>nan</td>\n",
       "      <td>nan</td>\n",
       "      <td>NaN</td>\n",
       "    </tr>\n",
       "    <tr>\n",
       "      <th>2</th>\n",
       "      <td>11227583</td>\n",
       "      <td>JB147595</td>\n",
       "      <td>03/28/2017 02:00:00 PM</td>\n",
       "      <td>026XX W 79TH ST</td>\n",
       "      <td>0620</td>\n",
       "      <td>BURGLARY</td>\n",
       "      <td>UNLAWFUL ENTRY</td>\n",
       "      <td>OTHER</td>\n",
       "      <td>False</td>\n",
       "      <td>False</td>\n",
       "      <td>...</td>\n",
       "      <td>18.00</td>\n",
       "      <td>70.00</td>\n",
       "      <td>05</td>\n",
       "      <td>nan</td>\n",
       "      <td>nan</td>\n",
       "      <td>2017</td>\n",
       "      <td>02/11/2018 03:57:41 PM</td>\n",
       "      <td>nan</td>\n",
       "      <td>nan</td>\n",
       "      <td>NaN</td>\n",
       "    </tr>\n",
       "    <tr>\n",
       "      <th>3</th>\n",
       "      <td>11227293</td>\n",
       "      <td>JB147230</td>\n",
       "      <td>09/09/2017 08:17:00 PM</td>\n",
       "      <td>060XX S EBERHART AVE</td>\n",
       "      <td>0810</td>\n",
       "      <td>THEFT</td>\n",
       "      <td>OVER $500</td>\n",
       "      <td>RESIDENCE</td>\n",
       "      <td>False</td>\n",
       "      <td>False</td>\n",
       "      <td>...</td>\n",
       "      <td>20.00</td>\n",
       "      <td>42.00</td>\n",
       "      <td>06</td>\n",
       "      <td>nan</td>\n",
       "      <td>nan</td>\n",
       "      <td>2017</td>\n",
       "      <td>02/11/2018 03:57:41 PM</td>\n",
       "      <td>nan</td>\n",
       "      <td>nan</td>\n",
       "      <td>NaN</td>\n",
       "    </tr>\n",
       "    <tr>\n",
       "      <th>4</th>\n",
       "      <td>11227634</td>\n",
       "      <td>JB147599</td>\n",
       "      <td>08/26/2017 10:00:00 AM</td>\n",
       "      <td>001XX W RANDOLPH ST</td>\n",
       "      <td>0281</td>\n",
       "      <td>CRIM SEXUAL ASSAULT</td>\n",
       "      <td>NON-AGGRAVATED</td>\n",
       "      <td>HOTEL/MOTEL</td>\n",
       "      <td>False</td>\n",
       "      <td>False</td>\n",
       "      <td>...</td>\n",
       "      <td>42.00</td>\n",
       "      <td>32.00</td>\n",
       "      <td>02</td>\n",
       "      <td>nan</td>\n",
       "      <td>nan</td>\n",
       "      <td>2017</td>\n",
       "      <td>02/11/2018 03:57:41 PM</td>\n",
       "      <td>nan</td>\n",
       "      <td>nan</td>\n",
       "      <td>NaN</td>\n",
       "    </tr>\n",
       "  </tbody>\n",
       "</table>\n",
       "<p>5 rows × 22 columns</p>\n",
       "</div>"
      ],
      "text/plain": [
       "         ID Case Number                    Date                 Block  IUCR  \\\n",
       "0  11034701    JA366925  01/01/2001 11:00:00 AM       016XX E 86TH PL  1153   \n",
       "1  11227287    JB147188  10/08/2017 03:00:00 AM    092XX S RACINE AVE  0281   \n",
       "2  11227583    JB147595  03/28/2017 02:00:00 PM       026XX W 79TH ST  0620   \n",
       "3  11227293    JB147230  09/09/2017 08:17:00 PM  060XX S EBERHART AVE  0810   \n",
       "4  11227634    JB147599  08/26/2017 10:00:00 AM   001XX W RANDOLPH ST  0281   \n",
       "\n",
       "          Primary Type                          Description  \\\n",
       "0   DECEPTIVE PRACTICE  FINANCIAL IDENTITY THEFT OVER $ 300   \n",
       "1  CRIM SEXUAL ASSAULT                       NON-AGGRAVATED   \n",
       "2             BURGLARY                       UNLAWFUL ENTRY   \n",
       "3                THEFT                            OVER $500   \n",
       "4  CRIM SEXUAL ASSAULT                       NON-AGGRAVATED   \n",
       "\n",
       "  Location Description  Arrest  Domestic  ...  Ward  Community Area  FBI Code  \\\n",
       "0            RESIDENCE   False     False  ...  8.00           45.00        11   \n",
       "1            RESIDENCE   False     False  ... 21.00           73.00        02   \n",
       "2                OTHER   False     False  ... 18.00           70.00        05   \n",
       "3            RESIDENCE   False     False  ... 20.00           42.00        06   \n",
       "4          HOTEL/MOTEL   False     False  ... 42.00           32.00        02   \n",
       "\n",
       "   X Coordinate Y Coordinate  Year              Updated On  Latitude  \\\n",
       "0           nan          nan  2001  08/05/2017 03:50:08 PM       nan   \n",
       "1           nan          nan  2017  02/11/2018 03:57:41 PM       nan   \n",
       "2           nan          nan  2017  02/11/2018 03:57:41 PM       nan   \n",
       "3           nan          nan  2017  02/11/2018 03:57:41 PM       nan   \n",
       "4           nan          nan  2017  02/11/2018 03:57:41 PM       nan   \n",
       "\n",
       "  Longitude  Location  \n",
       "0       nan       NaN  \n",
       "1       nan       NaN  \n",
       "2       nan       NaN  \n",
       "3       nan       NaN  \n",
       "4       nan       NaN  \n",
       "\n",
       "[5 rows x 22 columns]"
      ]
     },
     "execution_count": 9,
     "metadata": {},
     "output_type": "execute_result"
    }
   ],
   "source": [
    "df.head()"
   ]
  },
  {
   "cell_type": "markdown",
   "metadata": {},
   "source": [
    "# Yearly Crimes Exploration"
   ]
  },
  {
   "cell_type": "code",
   "execution_count": 15,
   "metadata": {
    "scrolled": false
   },
   "outputs": [
    {
     "data": {
      "text/html": [
       "<div>\n",
       "<style scoped>\n",
       "    .dataframe tbody tr th:only-of-type {\n",
       "        vertical-align: middle;\n",
       "    }\n",
       "\n",
       "    .dataframe tbody tr th {\n",
       "        vertical-align: top;\n",
       "    }\n",
       "\n",
       "    .dataframe thead th {\n",
       "        text-align: right;\n",
       "    }\n",
       "</style>\n",
       "<table border=\"1\" class=\"dataframe\">\n",
       "  <thead>\n",
       "    <tr style=\"text-align: right;\">\n",
       "      <th></th>\n",
       "      <th>0</th>\n",
       "    </tr>\n",
       "    <tr>\n",
       "      <th>Year</th>\n",
       "      <th></th>\n",
       "    </tr>\n",
       "  </thead>\n",
       "  <tbody>\n",
       "    <tr>\n",
       "      <th>2001</th>\n",
       "      <td>485779</td>\n",
       "    </tr>\n",
       "    <tr>\n",
       "      <th>2002</th>\n",
       "      <td>486762</td>\n",
       "    </tr>\n",
       "    <tr>\n",
       "      <th>2003</th>\n",
       "      <td>475960</td>\n",
       "    </tr>\n",
       "    <tr>\n",
       "      <th>2004</th>\n",
       "      <td>469395</td>\n",
       "    </tr>\n",
       "    <tr>\n",
       "      <th>2005</th>\n",
       "      <td>453731</td>\n",
       "    </tr>\n",
       "    <tr>\n",
       "      <th>2006</th>\n",
       "      <td>448136</td>\n",
       "    </tr>\n",
       "    <tr>\n",
       "      <th>2007</th>\n",
       "      <td>437039</td>\n",
       "    </tr>\n",
       "    <tr>\n",
       "      <th>2008</th>\n",
       "      <td>427095</td>\n",
       "    </tr>\n",
       "    <tr>\n",
       "      <th>2009</th>\n",
       "      <td>392762</td>\n",
       "    </tr>\n",
       "    <tr>\n",
       "      <th>2010</th>\n",
       "      <td>370393</td>\n",
       "    </tr>\n",
       "    <tr>\n",
       "      <th>2011</th>\n",
       "      <td>351870</td>\n",
       "    </tr>\n",
       "    <tr>\n",
       "      <th>2012</th>\n",
       "      <td>336124</td>\n",
       "    </tr>\n",
       "    <tr>\n",
       "      <th>2013</th>\n",
       "      <td>307271</td>\n",
       "    </tr>\n",
       "    <tr>\n",
       "      <th>2014</th>\n",
       "      <td>275517</td>\n",
       "    </tr>\n",
       "    <tr>\n",
       "      <th>2015</th>\n",
       "      <td>264422</td>\n",
       "    </tr>\n",
       "    <tr>\n",
       "      <th>2016</th>\n",
       "      <td>269380</td>\n",
       "    </tr>\n",
       "    <tr>\n",
       "      <th>2017</th>\n",
       "      <td>268621</td>\n",
       "    </tr>\n",
       "    <tr>\n",
       "      <th>2018</th>\n",
       "      <td>268115</td>\n",
       "    </tr>\n",
       "    <tr>\n",
       "      <th>2019</th>\n",
       "      <td>259640</td>\n",
       "    </tr>\n",
       "    <tr>\n",
       "      <th>2020</th>\n",
       "      <td>117829</td>\n",
       "    </tr>\n",
       "  </tbody>\n",
       "</table>\n",
       "</div>"
      ],
      "text/plain": [
       "           0\n",
       "Year        \n",
       "2001  485779\n",
       "2002  486762\n",
       "2003  475960\n",
       "2004  469395\n",
       "2005  453731\n",
       "2006  448136\n",
       "2007  437039\n",
       "2008  427095\n",
       "2009  392762\n",
       "2010  370393\n",
       "2011  351870\n",
       "2012  336124\n",
       "2013  307271\n",
       "2014  275517\n",
       "2015  264422\n",
       "2016  269380\n",
       "2017  268621\n",
       "2018  268115\n",
       "2019  259640\n",
       "2020  117829"
      ]
     },
     "execution_count": 15,
     "metadata": {},
     "output_type": "execute_result"
    }
   ],
   "source": [
    "crime_series = df.groupby([\"Year\"]).size()\n",
    "crime_df = crime_series.to_frame()\n",
    "crime_df"
   ]
  },
  {
   "cell_type": "markdown",
   "metadata": {},
   "source": [
    "The cell above makes an aggregation of cases per year in chronological order."
   ]
  },
  {
   "cell_type": "code",
   "execution_count": null,
   "metadata": {},
   "outputs": [],
   "source": [
    "df[\"Year\"].value_counts()"
   ]
  },
  {
   "cell_type": "markdown",
   "metadata": {},
   "source": [
    "This cell above sorts the number of cases per year in descending order so the data is not in chronological order anymore."
   ]
  },
  {
   "cell_type": "code",
   "execution_count": null,
   "metadata": {},
   "outputs": [],
   "source": [
    "df[\"Year\"].min()"
   ]
  },
  {
   "cell_type": "markdown",
   "metadata": {},
   "source": [
    "This is to be expected since the minimum value in the Year column would be 2001."
   ]
  },
  {
   "cell_type": "code",
   "execution_count": null,
   "metadata": {},
   "outputs": [],
   "source": [
    "df[\"Year\"].max()"
   ]
  },
  {
   "cell_type": "markdown",
   "metadata": {},
   "source": [
    "This is also to be expected since the maximum value in the Year column would be 2020."
   ]
  },
  {
   "cell_type": "code",
   "execution_count": null,
   "metadata": {},
   "outputs": [],
   "source": [
    "df[\"Year\"].count()"
   ]
  },
  {
   "cell_type": "markdown",
   "metadata": {},
   "source": [
    "This is to be expected since this value matches the 7165841 you get when you do print(df.shape)."
   ]
  },
  {
   "cell_type": "code",
   "execution_count": null,
   "metadata": {},
   "outputs": [],
   "source": [
    "df.groupby([\"Year\"]).count()"
   ]
  },
  {
   "cell_type": "markdown",
   "metadata": {},
   "source": [
    "This looks correct. Most fields have an entry and are aggregated to the total number of cases valid in that year."
   ]
  },
  {
   "cell_type": "markdown",
   "metadata": {},
   "source": [
    "# Looking at crimes where an arrest occurred"
   ]
  },
  {
   "cell_type": "code",
   "execution_count": 8,
   "metadata": {},
   "outputs": [
    {
     "data": {
      "text/html": [
       "<div>\n",
       "<style scoped>\n",
       "    .dataframe tbody tr th:only-of-type {\n",
       "        vertical-align: middle;\n",
       "    }\n",
       "\n",
       "    .dataframe tbody tr th {\n",
       "        vertical-align: top;\n",
       "    }\n",
       "\n",
       "    .dataframe thead th {\n",
       "        text-align: right;\n",
       "    }\n",
       "</style>\n",
       "<table border=\"1\" class=\"dataframe\">\n",
       "  <thead>\n",
       "    <tr style=\"text-align: right;\">\n",
       "      <th></th>\n",
       "      <th>0</th>\n",
       "    </tr>\n",
       "    <tr>\n",
       "      <th>Year</th>\n",
       "      <th></th>\n",
       "    </tr>\n",
       "  </thead>\n",
       "  <tbody>\n",
       "    <tr>\n",
       "      <th>2001</th>\n",
       "      <td>141910</td>\n",
       "    </tr>\n",
       "    <tr>\n",
       "      <th>2002</th>\n",
       "      <td>141555</td>\n",
       "    </tr>\n",
       "    <tr>\n",
       "      <th>2003</th>\n",
       "      <td>141577</td>\n",
       "    </tr>\n",
       "    <tr>\n",
       "      <th>2004</th>\n",
       "      <td>144690</td>\n",
       "    </tr>\n",
       "    <tr>\n",
       "      <th>2005</th>\n",
       "      <td>140902</td>\n",
       "    </tr>\n",
       "    <tr>\n",
       "      <th>2006</th>\n",
       "      <td>135394</td>\n",
       "    </tr>\n",
       "    <tr>\n",
       "      <th>2007</th>\n",
       "      <td>131862</td>\n",
       "    </tr>\n",
       "    <tr>\n",
       "      <th>2008</th>\n",
       "      <td>109973</td>\n",
       "    </tr>\n",
       "    <tr>\n",
       "      <th>2009</th>\n",
       "      <td>110784</td>\n",
       "    </tr>\n",
       "    <tr>\n",
       "      <th>2010</th>\n",
       "      <td>100501</td>\n",
       "    </tr>\n",
       "    <tr>\n",
       "      <th>2011</th>\n",
       "      <td>96256</td>\n",
       "    </tr>\n",
       "    <tr>\n",
       "      <th>2012</th>\n",
       "      <td>90610</td>\n",
       "    </tr>\n",
       "    <tr>\n",
       "      <th>2013</th>\n",
       "      <td>86489</td>\n",
       "    </tr>\n",
       "    <tr>\n",
       "      <th>2014</th>\n",
       "      <td>79578</td>\n",
       "    </tr>\n",
       "    <tr>\n",
       "      <th>2015</th>\n",
       "      <td>69970</td>\n",
       "    </tr>\n",
       "    <tr>\n",
       "      <th>2016</th>\n",
       "      <td>52936</td>\n",
       "    </tr>\n",
       "    <tr>\n",
       "      <th>2017</th>\n",
       "      <td>52546</td>\n",
       "    </tr>\n",
       "    <tr>\n",
       "      <th>2018</th>\n",
       "      <td>53678</td>\n",
       "    </tr>\n",
       "    <tr>\n",
       "      <th>2019</th>\n",
       "      <td>55355</td>\n",
       "    </tr>\n",
       "    <tr>\n",
       "      <th>2020</th>\n",
       "      <td>19543</td>\n",
       "    </tr>\n",
       "  </tbody>\n",
       "</table>\n",
       "</div>"
      ],
      "text/plain": [
       "           0\n",
       "Year        \n",
       "2001  141910\n",
       "2002  141555\n",
       "2003  141577\n",
       "2004  144690\n",
       "2005  140902\n",
       "2006  135394\n",
       "2007  131862\n",
       "2008  109973\n",
       "2009  110784\n",
       "2010  100501\n",
       "2011   96256\n",
       "2012   90610\n",
       "2013   86489\n",
       "2014   79578\n",
       "2015   69970\n",
       "2016   52936\n",
       "2017   52546\n",
       "2018   53678\n",
       "2019   55355\n",
       "2020   19543"
      ]
     },
     "execution_count": 8,
     "metadata": {},
     "output_type": "execute_result"
    }
   ],
   "source": [
    "arrested_query = df.query(\"Arrest == True\")\n",
    "arrested_series = arrested_query.groupby([\"Year\"]).size()\n",
    "arrested_df = arrested_series.to_frame()\n",
    "arrested_df"
   ]
  },
  {
   "cell_type": "code",
   "execution_count": null,
   "metadata": {},
   "outputs": [],
   "source": [
    "arrested_df.describe()"
   ]
  },
  {
   "cell_type": "markdown",
   "metadata": {},
   "source": [
    "### Now we want to see the % of crimes where arrests occurred..."
   ]
  },
  {
   "cell_type": "code",
   "execution_count": 16,
   "metadata": {},
   "outputs": [
    {
     "ename": "ValueError",
     "evalue": "columns overlap but no suffix specified: RangeIndex(start=0, stop=1, step=1)",
     "output_type": "error",
     "traceback": [
      "\u001b[0;31m---------------------------------------------------------------------------\u001b[0m",
      "\u001b[0;31mValueError\u001b[0m                                Traceback (most recent call last)",
      "\u001b[0;32m<ipython-input-16-eaff8e48e011>\u001b[0m in \u001b[0;36m<module>\u001b[0;34m\u001b[0m\n\u001b[0;32m----> 1\u001b[0;31m \u001b[0mdf_joined\u001b[0m \u001b[0;34m=\u001b[0m \u001b[0mcrime_df\u001b[0m\u001b[0;34m.\u001b[0m\u001b[0mjoin\u001b[0m\u001b[0;34m(\u001b[0m\u001b[0marrested_df\u001b[0m\u001b[0;34m)\u001b[0m\u001b[0;34m\u001b[0m\u001b[0;34m\u001b[0m\u001b[0m\n\u001b[0m\u001b[1;32m      2\u001b[0m \u001b[0mdf_joined\u001b[0m\u001b[0;34m\u001b[0m\u001b[0;34m\u001b[0m\u001b[0m\n",
      "\u001b[0;32m/opt/anaconda3/lib/python3.7/site-packages/pandas/core/frame.py\u001b[0m in \u001b[0;36mjoin\u001b[0;34m(self, other, on, how, lsuffix, rsuffix, sort)\u001b[0m\n\u001b[1;32m   7207\u001b[0m         \"\"\"\n\u001b[1;32m   7208\u001b[0m         return self._join_compat(\n\u001b[0;32m-> 7209\u001b[0;31m             \u001b[0mother\u001b[0m\u001b[0;34m,\u001b[0m \u001b[0mon\u001b[0m\u001b[0;34m=\u001b[0m\u001b[0mon\u001b[0m\u001b[0;34m,\u001b[0m \u001b[0mhow\u001b[0m\u001b[0;34m=\u001b[0m\u001b[0mhow\u001b[0m\u001b[0;34m,\u001b[0m \u001b[0mlsuffix\u001b[0m\u001b[0;34m=\u001b[0m\u001b[0mlsuffix\u001b[0m\u001b[0;34m,\u001b[0m \u001b[0mrsuffix\u001b[0m\u001b[0;34m=\u001b[0m\u001b[0mrsuffix\u001b[0m\u001b[0;34m,\u001b[0m \u001b[0msort\u001b[0m\u001b[0;34m=\u001b[0m\u001b[0msort\u001b[0m\u001b[0;34m\u001b[0m\u001b[0;34m\u001b[0m\u001b[0m\n\u001b[0m\u001b[1;32m   7210\u001b[0m         )\n\u001b[1;32m   7211\u001b[0m \u001b[0;34m\u001b[0m\u001b[0m\n",
      "\u001b[0;32m/opt/anaconda3/lib/python3.7/site-packages/pandas/core/frame.py\u001b[0m in \u001b[0;36m_join_compat\u001b[0;34m(self, other, on, how, lsuffix, rsuffix, sort)\u001b[0m\n\u001b[1;32m   7230\u001b[0m                 \u001b[0mright_index\u001b[0m\u001b[0;34m=\u001b[0m\u001b[0;32mTrue\u001b[0m\u001b[0;34m,\u001b[0m\u001b[0;34m\u001b[0m\u001b[0;34m\u001b[0m\u001b[0m\n\u001b[1;32m   7231\u001b[0m                 \u001b[0msuffixes\u001b[0m\u001b[0;34m=\u001b[0m\u001b[0;34m(\u001b[0m\u001b[0mlsuffix\u001b[0m\u001b[0;34m,\u001b[0m \u001b[0mrsuffix\u001b[0m\u001b[0;34m)\u001b[0m\u001b[0;34m,\u001b[0m\u001b[0;34m\u001b[0m\u001b[0;34m\u001b[0m\u001b[0m\n\u001b[0;32m-> 7232\u001b[0;31m                 \u001b[0msort\u001b[0m\u001b[0;34m=\u001b[0m\u001b[0msort\u001b[0m\u001b[0;34m,\u001b[0m\u001b[0;34m\u001b[0m\u001b[0;34m\u001b[0m\u001b[0m\n\u001b[0m\u001b[1;32m   7233\u001b[0m             )\n\u001b[1;32m   7234\u001b[0m         \u001b[0;32melse\u001b[0m\u001b[0;34m:\u001b[0m\u001b[0;34m\u001b[0m\u001b[0;34m\u001b[0m\u001b[0m\n",
      "\u001b[0;32m/opt/anaconda3/lib/python3.7/site-packages/pandas/core/reshape/merge.py\u001b[0m in \u001b[0;36mmerge\u001b[0;34m(left, right, how, on, left_on, right_on, left_index, right_index, sort, suffixes, copy, indicator, validate)\u001b[0m\n\u001b[1;32m     86\u001b[0m         \u001b[0mvalidate\u001b[0m\u001b[0;34m=\u001b[0m\u001b[0mvalidate\u001b[0m\u001b[0;34m,\u001b[0m\u001b[0;34m\u001b[0m\u001b[0;34m\u001b[0m\u001b[0m\n\u001b[1;32m     87\u001b[0m     )\n\u001b[0;32m---> 88\u001b[0;31m     \u001b[0;32mreturn\u001b[0m \u001b[0mop\u001b[0m\u001b[0;34m.\u001b[0m\u001b[0mget_result\u001b[0m\u001b[0;34m(\u001b[0m\u001b[0;34m)\u001b[0m\u001b[0;34m\u001b[0m\u001b[0;34m\u001b[0m\u001b[0m\n\u001b[0m\u001b[1;32m     89\u001b[0m \u001b[0;34m\u001b[0m\u001b[0m\n\u001b[1;32m     90\u001b[0m \u001b[0;34m\u001b[0m\u001b[0m\n",
      "\u001b[0;32m/opt/anaconda3/lib/python3.7/site-packages/pandas/core/reshape/merge.py\u001b[0m in \u001b[0;36mget_result\u001b[0;34m(self)\u001b[0m\n\u001b[1;32m    647\u001b[0m \u001b[0;34m\u001b[0m\u001b[0m\n\u001b[1;32m    648\u001b[0m         llabels, rlabels = _items_overlap_with_suffix(\n\u001b[0;32m--> 649\u001b[0;31m             \u001b[0mldata\u001b[0m\u001b[0;34m.\u001b[0m\u001b[0mitems\u001b[0m\u001b[0;34m,\u001b[0m \u001b[0mlsuf\u001b[0m\u001b[0;34m,\u001b[0m \u001b[0mrdata\u001b[0m\u001b[0;34m.\u001b[0m\u001b[0mitems\u001b[0m\u001b[0;34m,\u001b[0m \u001b[0mrsuf\u001b[0m\u001b[0;34m\u001b[0m\u001b[0;34m\u001b[0m\u001b[0m\n\u001b[0m\u001b[1;32m    650\u001b[0m         )\n\u001b[1;32m    651\u001b[0m \u001b[0;34m\u001b[0m\u001b[0m\n",
      "\u001b[0;32m/opt/anaconda3/lib/python3.7/site-packages/pandas/core/reshape/merge.py\u001b[0m in \u001b[0;36m_items_overlap_with_suffix\u001b[0;34m(left, lsuffix, right, rsuffix)\u001b[0m\n\u001b[1;32m   2024\u001b[0m         raise ValueError(\n\u001b[1;32m   2025\u001b[0m             \u001b[0;34m\"columns overlap but no suffix specified: \"\u001b[0m\u001b[0;34m\u001b[0m\u001b[0;34m\u001b[0m\u001b[0m\n\u001b[0;32m-> 2026\u001b[0;31m             \u001b[0;34m\"{rename}\"\u001b[0m\u001b[0;34m.\u001b[0m\u001b[0mformat\u001b[0m\u001b[0;34m(\u001b[0m\u001b[0mrename\u001b[0m\u001b[0;34m=\u001b[0m\u001b[0mto_rename\u001b[0m\u001b[0;34m)\u001b[0m\u001b[0;34m\u001b[0m\u001b[0;34m\u001b[0m\u001b[0m\n\u001b[0m\u001b[1;32m   2027\u001b[0m         )\n\u001b[1;32m   2028\u001b[0m \u001b[0;34m\u001b[0m\u001b[0m\n",
      "\u001b[0;31mValueError\u001b[0m: columns overlap but no suffix specified: RangeIndex(start=0, stop=1, step=1)"
     ]
    }
   ],
   "source": [
    "df_joined = crime_df.join(arrested_df)\n",
    "df_joined"
   ]
  },
  {
   "cell_type": "code",
   "execution_count": 83,
   "metadata": {},
   "outputs": [
    {
     "data": {
      "text/plain": [
       "Index(['Total Crimes', 'Total Arrests'], dtype='object')"
      ]
     },
     "execution_count": 83,
     "metadata": {},
     "output_type": "execute_result"
    }
   ],
   "source": [
    "df_merged = crime_df.merge(arrested_df, on=\"Year\")\n",
    "df_merged = df_merged.rename(columns = { \"0_x\" : \"Total Crimes\", \"0_y\" : \"Total Arrests\" })\n",
    "df_merged"
   ]
  },
  {
   "cell_type": "code",
   "execution_count": 86,
   "metadata": {},
   "outputs": [
    {
     "data": {
      "text/html": [
       "<div>\n",
       "<style scoped>\n",
       "    .dataframe tbody tr th:only-of-type {\n",
       "        vertical-align: middle;\n",
       "    }\n",
       "\n",
       "    .dataframe tbody tr th {\n",
       "        vertical-align: top;\n",
       "    }\n",
       "\n",
       "    .dataframe thead th {\n",
       "        text-align: right;\n",
       "    }\n",
       "</style>\n",
       "<table border=\"1\" class=\"dataframe\">\n",
       "  <thead>\n",
       "    <tr style=\"text-align: right;\">\n",
       "      <th></th>\n",
       "      <th>Total Crimes</th>\n",
       "      <th>Total Arrests</th>\n",
       "      <th>% of Crimes Resulting in Arrests</th>\n",
       "    </tr>\n",
       "    <tr>\n",
       "      <th>Year</th>\n",
       "      <th></th>\n",
       "      <th></th>\n",
       "      <th></th>\n",
       "    </tr>\n",
       "  </thead>\n",
       "  <tbody>\n",
       "    <tr>\n",
       "      <th>2001</th>\n",
       "      <td>485779</td>\n",
       "      <td>141910</td>\n",
       "      <td>0.29</td>\n",
       "    </tr>\n",
       "    <tr>\n",
       "      <th>2002</th>\n",
       "      <td>486762</td>\n",
       "      <td>141555</td>\n",
       "      <td>0.29</td>\n",
       "    </tr>\n",
       "    <tr>\n",
       "      <th>2003</th>\n",
       "      <td>475960</td>\n",
       "      <td>141577</td>\n",
       "      <td>0.30</td>\n",
       "    </tr>\n",
       "    <tr>\n",
       "      <th>2004</th>\n",
       "      <td>469395</td>\n",
       "      <td>144690</td>\n",
       "      <td>0.31</td>\n",
       "    </tr>\n",
       "    <tr>\n",
       "      <th>2005</th>\n",
       "      <td>453731</td>\n",
       "      <td>140902</td>\n",
       "      <td>0.31</td>\n",
       "    </tr>\n",
       "    <tr>\n",
       "      <th>2006</th>\n",
       "      <td>448136</td>\n",
       "      <td>135394</td>\n",
       "      <td>0.30</td>\n",
       "    </tr>\n",
       "    <tr>\n",
       "      <th>2007</th>\n",
       "      <td>437039</td>\n",
       "      <td>131862</td>\n",
       "      <td>0.30</td>\n",
       "    </tr>\n",
       "    <tr>\n",
       "      <th>2008</th>\n",
       "      <td>427095</td>\n",
       "      <td>109973</td>\n",
       "      <td>0.26</td>\n",
       "    </tr>\n",
       "    <tr>\n",
       "      <th>2009</th>\n",
       "      <td>392762</td>\n",
       "      <td>110784</td>\n",
       "      <td>0.28</td>\n",
       "    </tr>\n",
       "    <tr>\n",
       "      <th>2010</th>\n",
       "      <td>370393</td>\n",
       "      <td>100501</td>\n",
       "      <td>0.27</td>\n",
       "    </tr>\n",
       "    <tr>\n",
       "      <th>2011</th>\n",
       "      <td>351870</td>\n",
       "      <td>96256</td>\n",
       "      <td>0.27</td>\n",
       "    </tr>\n",
       "    <tr>\n",
       "      <th>2012</th>\n",
       "      <td>336124</td>\n",
       "      <td>90610</td>\n",
       "      <td>0.27</td>\n",
       "    </tr>\n",
       "    <tr>\n",
       "      <th>2013</th>\n",
       "      <td>307271</td>\n",
       "      <td>86489</td>\n",
       "      <td>0.28</td>\n",
       "    </tr>\n",
       "    <tr>\n",
       "      <th>2014</th>\n",
       "      <td>275517</td>\n",
       "      <td>79578</td>\n",
       "      <td>0.29</td>\n",
       "    </tr>\n",
       "    <tr>\n",
       "      <th>2015</th>\n",
       "      <td>264422</td>\n",
       "      <td>69970</td>\n",
       "      <td>0.26</td>\n",
       "    </tr>\n",
       "    <tr>\n",
       "      <th>2016</th>\n",
       "      <td>269380</td>\n",
       "      <td>52936</td>\n",
       "      <td>0.20</td>\n",
       "    </tr>\n",
       "    <tr>\n",
       "      <th>2017</th>\n",
       "      <td>268621</td>\n",
       "      <td>52546</td>\n",
       "      <td>0.20</td>\n",
       "    </tr>\n",
       "    <tr>\n",
       "      <th>2018</th>\n",
       "      <td>268115</td>\n",
       "      <td>53678</td>\n",
       "      <td>0.20</td>\n",
       "    </tr>\n",
       "    <tr>\n",
       "      <th>2019</th>\n",
       "      <td>259640</td>\n",
       "      <td>55355</td>\n",
       "      <td>0.21</td>\n",
       "    </tr>\n",
       "    <tr>\n",
       "      <th>2020</th>\n",
       "      <td>117829</td>\n",
       "      <td>19543</td>\n",
       "      <td>0.17</td>\n",
       "    </tr>\n",
       "  </tbody>\n",
       "</table>\n",
       "</div>"
      ],
      "text/plain": [
       "      Total Crimes  Total Arrests  % of Crimes Resulting in Arrests\n",
       "Year                                                               \n",
       "2001        485779         141910                              0.29\n",
       "2002        486762         141555                              0.29\n",
       "2003        475960         141577                              0.30\n",
       "2004        469395         144690                              0.31\n",
       "2005        453731         140902                              0.31\n",
       "2006        448136         135394                              0.30\n",
       "2007        437039         131862                              0.30\n",
       "2008        427095         109973                              0.26\n",
       "2009        392762         110784                              0.28\n",
       "2010        370393         100501                              0.27\n",
       "2011        351870          96256                              0.27\n",
       "2012        336124          90610                              0.27\n",
       "2013        307271          86489                              0.28\n",
       "2014        275517          79578                              0.29\n",
       "2015        264422          69970                              0.26\n",
       "2016        269380          52936                              0.20\n",
       "2017        268621          52546                              0.20\n",
       "2018        268115          53678                              0.20\n",
       "2019        259640          55355                              0.21\n",
       "2020        117829          19543                              0.17"
      ]
     },
     "execution_count": 86,
     "metadata": {},
     "output_type": "execute_result"
    }
   ],
   "source": [
    "df_merged[\"% of Crimes Resulting in Arrests\"] = df_merged[\"Total Arrests\"].divide(df_merged[\"Total Crimes\"])\n",
    "df_merged"
   ]
  },
  {
   "cell_type": "code",
   "execution_count": 30,
   "metadata": {},
   "outputs": [
    {
     "data": {
      "text/html": [
       "<div>\n",
       "<style scoped>\n",
       "    .dataframe tbody tr th:only-of-type {\n",
       "        vertical-align: middle;\n",
       "    }\n",
       "\n",
       "    .dataframe tbody tr th {\n",
       "        vertical-align: top;\n",
       "    }\n",
       "\n",
       "    .dataframe thead th {\n",
       "        text-align: right;\n",
       "    }\n",
       "</style>\n",
       "<table border=\"1\" class=\"dataframe\">\n",
       "  <thead>\n",
       "    <tr style=\"text-align: right;\">\n",
       "      <th></th>\n",
       "      <th>Total Crimes</th>\n",
       "      <th>Total Arrests</th>\n",
       "      <th>% of Crimes Resulting in Arrests</th>\n",
       "    </tr>\n",
       "  </thead>\n",
       "  <tbody>\n",
       "    <tr>\n",
       "      <th>count</th>\n",
       "      <td>20.00</td>\n",
       "      <td>20.00</td>\n",
       "      <td>20.00</td>\n",
       "    </tr>\n",
       "    <tr>\n",
       "      <th>mean</th>\n",
       "      <td>358,292.05</td>\n",
       "      <td>97,805.45</td>\n",
       "      <td>0.26</td>\n",
       "    </tr>\n",
       "    <tr>\n",
       "      <th>std</th>\n",
       "      <td>102,297.06</td>\n",
       "      <td>38,355.96</td>\n",
       "      <td>0.04</td>\n",
       "    </tr>\n",
       "    <tr>\n",
       "      <th>min</th>\n",
       "      <td>117,829.00</td>\n",
       "      <td>19,543.00</td>\n",
       "      <td>0.17</td>\n",
       "    </tr>\n",
       "    <tr>\n",
       "      <th>25%</th>\n",
       "      <td>269,190.25</td>\n",
       "      <td>66,316.25</td>\n",
       "      <td>0.25</td>\n",
       "    </tr>\n",
       "    <tr>\n",
       "      <th>50%</th>\n",
       "      <td>361,131.50</td>\n",
       "      <td>98,378.50</td>\n",
       "      <td>0.28</td>\n",
       "    </tr>\n",
       "    <tr>\n",
       "      <th>75%</th>\n",
       "      <td>449,534.75</td>\n",
       "      <td>136,771.00</td>\n",
       "      <td>0.29</td>\n",
       "    </tr>\n",
       "    <tr>\n",
       "      <th>max</th>\n",
       "      <td>486,762.00</td>\n",
       "      <td>144,690.00</td>\n",
       "      <td>0.31</td>\n",
       "    </tr>\n",
       "  </tbody>\n",
       "</table>\n",
       "</div>"
      ],
      "text/plain": [
       "       Total Crimes  Total Arrests  % of Crimes Resulting in Arrests\n",
       "count         20.00          20.00                             20.00\n",
       "mean     358,292.05      97,805.45                              0.26\n",
       "std      102,297.06      38,355.96                              0.04\n",
       "min      117,829.00      19,543.00                              0.17\n",
       "25%      269,190.25      66,316.25                              0.25\n",
       "50%      361,131.50      98,378.50                              0.28\n",
       "75%      449,534.75     136,771.00                              0.29\n",
       "max      486,762.00     144,690.00                              0.31"
      ]
     },
     "execution_count": 30,
     "metadata": {},
     "output_type": "execute_result"
    }
   ],
   "source": [
    "df_merged.describe()"
   ]
  },
  {
   "cell_type": "markdown",
   "metadata": {},
   "source": [
    "# Chicago Bulls Data"
   ]
  },
  {
   "cell_type": "code",
   "execution_count": 34,
   "metadata": {},
   "outputs": [],
   "source": [
    "project_df = cbdf[:20]"
   ]
  },
  {
   "cell_type": "code",
   "execution_count": 35,
   "metadata": {},
   "outputs": [
    {
     "data": {
      "text/html": [
       "<div>\n",
       "<style scoped>\n",
       "    .dataframe tbody tr th:only-of-type {\n",
       "        vertical-align: middle;\n",
       "    }\n",
       "\n",
       "    .dataframe tbody tr th {\n",
       "        vertical-align: top;\n",
       "    }\n",
       "\n",
       "    .dataframe thead th {\n",
       "        text-align: right;\n",
       "    }\n",
       "</style>\n",
       "<table border=\"1\" class=\"dataframe\">\n",
       "  <thead>\n",
       "    <tr style=\"text-align: right;\">\n",
       "      <th></th>\n",
       "      <th>Season</th>\n",
       "      <th>Lg</th>\n",
       "      <th>Team</th>\n",
       "      <th>W</th>\n",
       "      <th>L</th>\n",
       "      <th>W/L%</th>\n",
       "      <th>Finish</th>\n",
       "      <th>SRS</th>\n",
       "      <th>Unnamed: 8</th>\n",
       "      <th>Pace</th>\n",
       "      <th>Rel Pace</th>\n",
       "      <th>ORtg</th>\n",
       "      <th>Rel ORtg</th>\n",
       "      <th>DRtg</th>\n",
       "      <th>Rel DRtg</th>\n",
       "      <th>Unnamed: 15</th>\n",
       "      <th>Playoffs</th>\n",
       "      <th>Coaches</th>\n",
       "      <th>Top WS</th>\n",
       "    </tr>\n",
       "  </thead>\n",
       "  <tbody>\n",
       "    <tr>\n",
       "      <th>0</th>\n",
       "      <td>2019-20</td>\n",
       "      <td>NBA</td>\n",
       "      <td>Chicago Bulls</td>\n",
       "      <td>22</td>\n",
       "      <td>43</td>\n",
       "      <td>0.34</td>\n",
       "      <td>3rd of 5</td>\n",
       "      <td>-3.85</td>\n",
       "      <td>nan</td>\n",
       "      <td>99.70</td>\n",
       "      <td>-0.60</td>\n",
       "      <td>106.70</td>\n",
       "      <td>-3.80</td>\n",
       "      <td>109.80</td>\n",
       "      <td>-0.70</td>\n",
       "      <td>nan</td>\n",
       "      <td>NaN</td>\n",
       "      <td>J. Boylen (22-43)</td>\n",
       "      <td>Z. LaVine (4.0)</td>\n",
       "    </tr>\n",
       "    <tr>\n",
       "      <th>1</th>\n",
       "      <td>2018-19</td>\n",
       "      <td>NBA</td>\n",
       "      <td>Chicago Bulls</td>\n",
       "      <td>22</td>\n",
       "      <td>60</td>\n",
       "      <td>0.27</td>\n",
       "      <td>4th of 5</td>\n",
       "      <td>-8.32</td>\n",
       "      <td>nan</td>\n",
       "      <td>99.00</td>\n",
       "      <td>-1.00</td>\n",
       "      <td>104.80</td>\n",
       "      <td>-5.60</td>\n",
       "      <td>113.20</td>\n",
       "      <td>2.80</td>\n",
       "      <td>nan</td>\n",
       "      <td>NaN</td>\n",
       "      <td>F. Hoiberg (5-19), J. Boylen (17-41)</td>\n",
       "      <td>R. Arcidiacono (3.7)</td>\n",
       "    </tr>\n",
       "    <tr>\n",
       "      <th>2</th>\n",
       "      <td>2017-18</td>\n",
       "      <td>NBA</td>\n",
       "      <td>Chicago Bulls</td>\n",
       "      <td>27</td>\n",
       "      <td>55</td>\n",
       "      <td>0.33</td>\n",
       "      <td>5th of 5</td>\n",
       "      <td>-6.84</td>\n",
       "      <td>nan</td>\n",
       "      <td>98.30</td>\n",
       "      <td>1.00</td>\n",
       "      <td>103.80</td>\n",
       "      <td>-4.80</td>\n",
       "      <td>110.90</td>\n",
       "      <td>2.30</td>\n",
       "      <td>nan</td>\n",
       "      <td>NaN</td>\n",
       "      <td>F. Hoiberg (27-55)</td>\n",
       "      <td>B. Portis (3.5)</td>\n",
       "    </tr>\n",
       "    <tr>\n",
       "      <th>3</th>\n",
       "      <td>2016-17</td>\n",
       "      <td>NBA</td>\n",
       "      <td>Chicago Bulls*</td>\n",
       "      <td>41</td>\n",
       "      <td>41</td>\n",
       "      <td>0.50</td>\n",
       "      <td>4th of 5</td>\n",
       "      <td>0.03</td>\n",
       "      <td>nan</td>\n",
       "      <td>95.30</td>\n",
       "      <td>-1.10</td>\n",
       "      <td>107.40</td>\n",
       "      <td>-1.40</td>\n",
       "      <td>107.00</td>\n",
       "      <td>-1.80</td>\n",
       "      <td>nan</td>\n",
       "      <td>Lost E. Conf. 1st Rnd.</td>\n",
       "      <td>F. Hoiberg (41-41)</td>\n",
       "      <td>J. Butler (13.8)</td>\n",
       "    </tr>\n",
       "    <tr>\n",
       "      <th>4</th>\n",
       "      <td>2015-16</td>\n",
       "      <td>NBA</td>\n",
       "      <td>Chicago Bulls</td>\n",
       "      <td>42</td>\n",
       "      <td>40</td>\n",
       "      <td>0.51</td>\n",
       "      <td>4th of 5</td>\n",
       "      <td>-1.46</td>\n",
       "      <td>nan</td>\n",
       "      <td>95.70</td>\n",
       "      <td>-0.10</td>\n",
       "      <td>105.00</td>\n",
       "      <td>-1.40</td>\n",
       "      <td>106.50</td>\n",
       "      <td>0.10</td>\n",
       "      <td>nan</td>\n",
       "      <td>NaN</td>\n",
       "      <td>F. Hoiberg (42-40)</td>\n",
       "      <td>J. Butler (9.1)</td>\n",
       "    </tr>\n",
       "  </tbody>\n",
       "</table>\n",
       "</div>"
      ],
      "text/plain": [
       "    Season   Lg            Team   W   L  W/L%    Finish   SRS  Unnamed: 8  \\\n",
       "0  2019-20  NBA   Chicago Bulls  22  43  0.34  3rd of 5 -3.85         nan   \n",
       "1  2018-19  NBA   Chicago Bulls  22  60  0.27  4th of 5 -8.32         nan   \n",
       "2  2017-18  NBA   Chicago Bulls  27  55  0.33  5th of 5 -6.84         nan   \n",
       "3  2016-17  NBA  Chicago Bulls*  41  41  0.50  4th of 5  0.03         nan   \n",
       "4  2015-16  NBA   Chicago Bulls  42  40  0.51  4th of 5 -1.46         nan   \n",
       "\n",
       "   Pace  Rel Pace   ORtg  Rel ORtg   DRtg  Rel DRtg  Unnamed: 15  \\\n",
       "0 99.70     -0.60 106.70     -3.80 109.80     -0.70          nan   \n",
       "1 99.00     -1.00 104.80     -5.60 113.20      2.80          nan   \n",
       "2 98.30      1.00 103.80     -4.80 110.90      2.30          nan   \n",
       "3 95.30     -1.10 107.40     -1.40 107.00     -1.80          nan   \n",
       "4 95.70     -0.10 105.00     -1.40 106.50      0.10          nan   \n",
       "\n",
       "                 Playoffs                               Coaches  \\\n",
       "0                     NaN                     J. Boylen (22-43)   \n",
       "1                     NaN  F. Hoiberg (5-19), J. Boylen (17-41)   \n",
       "2                     NaN                    F. Hoiberg (27-55)   \n",
       "3  Lost E. Conf. 1st Rnd.                    F. Hoiberg (41-41)   \n",
       "4                     NaN                    F. Hoiberg (42-40)   \n",
       "\n",
       "                 Top WS  \n",
       "0       Z. LaVine (4.0)  \n",
       "1  R. Arcidiacono (3.7)  \n",
       "2       B. Portis (3.5)  \n",
       "3      J. Butler (13.8)  \n",
       "4       J. Butler (9.1)  "
      ]
     },
     "execution_count": 35,
     "metadata": {},
     "output_type": "execute_result"
    }
   ],
   "source": [
    "project_df.head()"
   ]
  },
  {
   "cell_type": "code",
   "execution_count": 36,
   "metadata": {},
   "outputs": [
    {
     "data": {
      "text/plain": [
       "Index(['Season', 'Lg', 'Team', 'W', 'L', 'W/L%', 'Finish', 'SRS', 'Unnamed: 8',\n",
       "       'Pace', 'Rel Pace', 'ORtg', 'Rel ORtg', 'DRtg', 'Rel DRtg',\n",
       "       'Unnamed: 15', 'Playoffs', 'Coaches', 'Top WS'],\n",
       "      dtype='object')"
      ]
     },
     "execution_count": 36,
     "metadata": {},
     "output_type": "execute_result"
    }
   ],
   "source": [
    "project_df.columns"
   ]
  },
  {
   "cell_type": "markdown",
   "metadata": {},
   "source": [
    "# W/L% Exploration"
   ]
  },
  {
   "cell_type": "code",
   "execution_count": 129,
   "metadata": {},
   "outputs": [
    {
     "data": {
      "text/plain": [
       "0    0.34\n",
       "1    0.27\n",
       "2    0.33\n",
       "3    0.50\n",
       "4    0.51\n",
       "5    0.61\n",
       "6    0.58\n",
       "7    0.55\n",
       "8    0.76\n",
       "9    0.76\n",
       "10   0.50\n",
       "11   0.50\n",
       "12   0.40\n",
       "13   0.60\n",
       "14   0.50\n",
       "15   0.57\n",
       "16   0.28\n",
       "17   0.37\n",
       "18   0.26\n",
       "19   0.18\n",
       "Name: W/L%, dtype: float64"
      ]
     },
     "execution_count": 129,
     "metadata": {},
     "output_type": "execute_result"
    }
   ],
   "source": [
    "project_df[\"W/L%\"]"
   ]
  },
  {
   "cell_type": "code",
   "execution_count": 40,
   "metadata": {},
   "outputs": [
    {
     "data": {
      "text/plain": [
       "0.50    4\n",
       "0.33    1\n",
       "0.34    1\n",
       "0.28    1\n",
       "0.26    1\n",
       "0.18    1\n",
       "0.76    1\n",
       "0.61    1\n",
       "0.76    1\n",
       "0.57    1\n",
       "0.55    1\n",
       "0.58    1\n",
       "0.40    1\n",
       "0.37    1\n",
       "0.60    1\n",
       "0.51    1\n",
       "0.27    1\n",
       "Name: W/L%, dtype: int64"
      ]
     },
     "execution_count": 40,
     "metadata": {},
     "output_type": "execute_result"
    }
   ],
   "source": [
    "project_df[\"W/L%\"].value_counts()"
   ]
  },
  {
   "cell_type": "code",
   "execution_count": 41,
   "metadata": {},
   "outputs": [
    {
     "data": {
      "text/plain": [
       "<bound method IndexOpsMixin.value_counts of 0    0.34\n",
       "1    0.27\n",
       "2    0.33\n",
       "3    0.50\n",
       "4    0.51\n",
       "5    0.61\n",
       "6    0.58\n",
       "7    0.55\n",
       "8    0.76\n",
       "9    0.76\n",
       "10   0.50\n",
       "11   0.50\n",
       "12   0.40\n",
       "13   0.60\n",
       "14   0.50\n",
       "15   0.57\n",
       "16   0.28\n",
       "17   0.37\n",
       "18   0.26\n",
       "19   0.18\n",
       "Name: W/L%, dtype: float64>"
      ]
     },
     "execution_count": 41,
     "metadata": {},
     "output_type": "execute_result"
    }
   ],
   "source": [
    "project_df[\"W/L%\"].value_counts"
   ]
  },
  {
   "cell_type": "code",
   "execution_count": 42,
   "metadata": {},
   "outputs": [
    {
     "data": {
      "text/plain": [
       "0.758"
      ]
     },
     "execution_count": 42,
     "metadata": {},
     "output_type": "execute_result"
    }
   ],
   "source": [
    "project_df[\"W/L%\"].max()"
   ]
  },
  {
   "cell_type": "code",
   "execution_count": 43,
   "metadata": {},
   "outputs": [
    {
     "data": {
      "text/plain": [
       "0.183"
      ]
     },
     "execution_count": 43,
     "metadata": {},
     "output_type": "execute_result"
    }
   ],
   "source": [
    "project_df[\"W/L%\"].min()"
   ]
  },
  {
   "cell_type": "code",
   "execution_count": 37,
   "metadata": {},
   "outputs": [
    {
     "data": {
      "text/plain": [
       "W/L%\n",
       "0.18    1\n",
       "0.26    1\n",
       "0.27    1\n",
       "0.28    1\n",
       "0.33    1\n",
       "0.34    1\n",
       "0.37    1\n",
       "0.40    1\n",
       "0.50    4\n",
       "0.51    1\n",
       "0.55    1\n",
       "0.57    1\n",
       "0.58    1\n",
       "0.60    1\n",
       "0.61    1\n",
       "0.76    1\n",
       "0.76    1\n",
       "dtype: int64"
      ]
     },
     "execution_count": 37,
     "metadata": {},
     "output_type": "execute_result"
    }
   ],
   "source": [
    "project_df.groupby([\"W/L%\"]).size()"
   ]
  },
  {
   "cell_type": "code",
   "execution_count": 39,
   "metadata": {},
   "outputs": [
    {
     "data": {
      "text/plain": [
       "count   20.00\n",
       "mean     0.47\n",
       "std      0.16\n",
       "min      0.18\n",
       "25%      0.34\n",
       "50%      0.50\n",
       "75%      0.58\n",
       "max      0.76\n",
       "Name: W/L%, dtype: float64"
      ]
     },
     "execution_count": 39,
     "metadata": {},
     "output_type": "execute_result"
    }
   ],
   "source": [
    "project_df[\"W/L%\"].describe()"
   ]
  },
  {
   "cell_type": "markdown",
   "metadata": {},
   "source": [
    "# Playoff Exploration"
   ]
  },
  {
   "cell_type": "code",
   "execution_count": 46,
   "metadata": {},
   "outputs": [
    {
     "data": {
      "text/plain": [
       "Lost E. Conf. 1st Rnd.    7\n",
       "Lost E. Conf. Semis       3\n",
       "Lost E. Conf. Finals      1\n",
       "Name: Playoffs, dtype: int64"
      ]
     },
     "execution_count": 46,
     "metadata": {},
     "output_type": "execute_result"
    }
   ],
   "source": [
    "project_df[\"Playoffs\"].value_counts()"
   ]
  },
  {
   "cell_type": "code",
   "execution_count": 45,
   "metadata": {},
   "outputs": [
    {
     "data": {
      "text/plain": [
       "<bound method IndexOpsMixin.value_counts of 0                        NaN\n",
       "1                        NaN\n",
       "2                        NaN\n",
       "3     Lost E. Conf. 1st Rnd.\n",
       "4                        NaN\n",
       "5        Lost E. Conf. Semis\n",
       "6     Lost E. Conf. 1st Rnd.\n",
       "7        Lost E. Conf. Semis\n",
       "8     Lost E. Conf. 1st Rnd.\n",
       "9       Lost E. Conf. Finals\n",
       "10    Lost E. Conf. 1st Rnd.\n",
       "11    Lost E. Conf. 1st Rnd.\n",
       "12                       NaN\n",
       "13       Lost E. Conf. Semis\n",
       "14    Lost E. Conf. 1st Rnd.\n",
       "15    Lost E. Conf. 1st Rnd.\n",
       "16                       NaN\n",
       "17                       NaN\n",
       "18                       NaN\n",
       "19                       NaN\n",
       "Name: Playoffs, dtype: object>"
      ]
     },
     "execution_count": 45,
     "metadata": {},
     "output_type": "execute_result"
    }
   ],
   "source": [
    "project_df[\"Playoffs\"].value_counts"
   ]
  },
  {
   "cell_type": "code",
   "execution_count": 44,
   "metadata": {},
   "outputs": [
    {
     "data": {
      "text/plain": [
       "count                         11\n",
       "unique                         3\n",
       "top       Lost E. Conf. 1st Rnd.\n",
       "freq                           7\n",
       "Name: Playoffs, dtype: object"
      ]
     },
     "execution_count": 44,
     "metadata": {},
     "output_type": "execute_result"
    }
   ],
   "source": [
    "project_df[\"Playoffs\"].describe()"
   ]
  },
  {
   "cell_type": "markdown",
   "metadata": {},
   "source": [
    "# Coaches Exploration"
   ]
  },
  {
   "cell_type": "code",
   "execution_count": 50,
   "metadata": {},
   "outputs": [
    {
     "data": {
      "text/plain": [
       "V. Del Negro (41-41)                                       2\n",
       "T. Thibodeau (45-37)                                       1\n",
       "B. Cartwright (4-10), P. Myers (0-2), S. Skiles (19-47)    1\n",
       "F. Hoiberg (5-19), J. Boylen (17-41)                       1\n",
       "J. Boylen (22-43)                                          1\n",
       "S. Skiles (9-16), P. Myers (0-1), J. Boylan (24-32)        1\n",
       "T. Floyd (15-67)                                           1\n",
       "T. Thibodeau (48-34)                                       1\n",
       "S. Skiles (47-35)                                          1\n",
       "F. Hoiberg (41-41)                                         1\n",
       "T. Thibodeau (50-16)                                       1\n",
       "T. Thibodeau (50-32)                                       1\n",
       "S. Skiles (41-41)                                          1\n",
       "S. Skiles (49-33)                                          1\n",
       "T. Floyd (4-21), B. Berry (0-2), B. Cartwright (17-38)     1\n",
       "F. Hoiberg (27-55)                                         1\n",
       "B. Cartwright (30-52)                                      1\n",
       "T. Thibodeau (62-20)                                       1\n",
       "F. Hoiberg (42-40)                                         1\n",
       "Name: Coaches, dtype: int64"
      ]
     },
     "execution_count": 50,
     "metadata": {},
     "output_type": "execute_result"
    }
   ],
   "source": [
    "project_df[\"Coaches\"].value_counts()"
   ]
  },
  {
   "cell_type": "code",
   "execution_count": 48,
   "metadata": {},
   "outputs": [
    {
     "data": {
      "text/plain": [
       "<bound method IndexOpsMixin.value_counts of 0                                     J. Boylen (22-43)\n",
       "1                  F. Hoiberg (5-19), J. Boylen (17-41)\n",
       "2                                    F. Hoiberg (27-55)\n",
       "3                                    F. Hoiberg (41-41)\n",
       "4                                    F. Hoiberg (42-40)\n",
       "5                                  T. Thibodeau (50-32)\n",
       "6                                  T. Thibodeau (48-34)\n",
       "7                                  T. Thibodeau (45-37)\n",
       "8                                  T. Thibodeau (50-16)\n",
       "9                                  T. Thibodeau (62-20)\n",
       "10                                 V. Del Negro (41-41)\n",
       "11                                 V. Del Negro (41-41)\n",
       "12    S. Skiles (9-16), P. Myers (0-1), J. Boylan (2...\n",
       "13                                    S. Skiles (49-33)\n",
       "14                                    S. Skiles (41-41)\n",
       "15                                    S. Skiles (47-35)\n",
       "16    B. Cartwright (4-10), P. Myers (0-2), S. Skile...\n",
       "17                                B. Cartwright (30-52)\n",
       "18    T. Floyd (4-21), B. Berry (0-2), B. Cartwright...\n",
       "19                                     T. Floyd (15-67)\n",
       "Name: Coaches, dtype: object>"
      ]
     },
     "execution_count": 48,
     "metadata": {},
     "output_type": "execute_result"
    }
   ],
   "source": [
    "project_df[\"Coaches\"].value_counts"
   ]
  },
  {
   "cell_type": "code",
   "execution_count": 49,
   "metadata": {},
   "outputs": [
    {
     "data": {
      "text/plain": [
       "count                       20\n",
       "unique                      19\n",
       "top       V. Del Negro (41-41)\n",
       "freq                         2\n",
       "Name: Coaches, dtype: object"
      ]
     },
     "execution_count": 49,
     "metadata": {},
     "output_type": "execute_result"
    }
   ],
   "source": [
    "project_df[\"Coaches\"].describe()"
   ]
  },
  {
   "cell_type": "markdown",
   "metadata": {},
   "source": [
    "# Finish in Division Exploration"
   ]
  },
  {
   "cell_type": "code",
   "execution_count": 51,
   "metadata": {},
   "outputs": [
    {
     "data": {
      "text/plain": [
       "4th of 5    5\n",
       "2nd of 5    5\n",
       "3rd of 5    3\n",
       "8th of 8    3\n",
       "1st of 5    2\n",
       "6th of 8    1\n",
       "5th of 5    1\n",
       "Name: Finish, dtype: int64"
      ]
     },
     "execution_count": 51,
     "metadata": {},
     "output_type": "execute_result"
    }
   ],
   "source": [
    "project_df[\"Finish\"].value_counts()"
   ]
  },
  {
   "cell_type": "code",
   "execution_count": 52,
   "metadata": {},
   "outputs": [
    {
     "data": {
      "text/plain": [
       "<bound method IndexOpsMixin.value_counts of 0     3rd of 5\n",
       "1     4th of 5\n",
       "2     5th of 5\n",
       "3     4th of 5\n",
       "4     4th of 5\n",
       "5     2nd of 5\n",
       "6     2nd of 5\n",
       "7     2nd of 5\n",
       "8     1st of 5\n",
       "9     1st of 5\n",
       "10    3rd of 5\n",
       "11    2nd of 5\n",
       "12    4th of 5\n",
       "13    3rd of 5\n",
       "14    4th of 5\n",
       "15    2nd of 5\n",
       "16    8th of 8\n",
       "17    6th of 8\n",
       "18    8th of 8\n",
       "19    8th of 8\n",
       "Name: Finish, dtype: object>"
      ]
     },
     "execution_count": 52,
     "metadata": {},
     "output_type": "execute_result"
    }
   ],
   "source": [
    "project_df[\"Finish\"].value_counts"
   ]
  },
  {
   "cell_type": "code",
   "execution_count": 53,
   "metadata": {},
   "outputs": [
    {
     "data": {
      "text/plain": [
       "'8th of 8'"
      ]
     },
     "execution_count": 53,
     "metadata": {},
     "output_type": "execute_result"
    }
   ],
   "source": [
    "project_df[\"Finish\"].max()"
   ]
  },
  {
   "cell_type": "markdown",
   "metadata": {},
   "source": [
    "The max function is interpreting the 8th of 8 as an integer so even though 8 is the max value, it's actually the inverse. The max value for this column is actually the min aka the worst finish."
   ]
  },
  {
   "cell_type": "code",
   "execution_count": 54,
   "metadata": {},
   "outputs": [
    {
     "data": {
      "text/plain": [
       "'1st of 5'"
      ]
     },
     "execution_count": 54,
     "metadata": {},
     "output_type": "execute_result"
    }
   ],
   "source": [
    "project_df[\"Finish\"].min()"
   ]
  },
  {
   "cell_type": "markdown",
   "metadata": {},
   "source": [
    "The min function is interpreting the 1st of 5 as an integer so even though 1 is the min value, it's actually the inverse. The min value for this column is actually the max aka the best finish."
   ]
  },
  {
   "cell_type": "markdown",
   "metadata": {},
   "source": [
    "# Line Graph of Performance Over Time"
   ]
  },
  {
   "cell_type": "code",
   "execution_count": 55,
   "metadata": {},
   "outputs": [
    {
     "data": {
      "text/plain": [
       "Text(0, 0.5, 'Win/Loss %')"
      ]
     },
     "execution_count": 55,
     "metadata": {},
     "output_type": "execute_result"
    },
    {
     "data": {
      "image/png": "[encoded data removed]",
      "text/plain": [
       "<Figure size 432x288 with 1 Axes>"
      ]
     },
     "metadata": {
      "needs_background": "light"
     },
     "output_type": "display_data"
    }
   ],
   "source": [
    "reversed_project_df = project_df.iloc[::-1]\n",
    "\n",
    "reversed_project_df.plot.line(x=\"Season\", y=\"W/L%\", title = \"Chicago Bulls Performance Since 2000\")\n",
    "plt.xlabel(\"Season\")\n",
    "plt.ylabel(\"Win/Loss %\")"
   ]
  },
  {
   "cell_type": "markdown",
   "metadata": {},
   "source": [
    "Used .iloc[::-1] in order to reverse the order of the years data because originally it went from present to past and we need it to be past to present."
   ]
  },
  {
   "cell_type": "code",
   "execution_count": 126,
   "metadata": {},
   "outputs": [
    {
     "name": "stdout",
     "output_type": "stream",
     "text": [
      "[0.183, 0.256, 0.366, 0.28, 0.573, 0.5, 0.598, 0.402, 0.5, 0.5, 0.7559999999999999, 0.758, 0.5489999999999999, 0.585, 0.61, 0.512, 0.5, 0.32899999999999996, 0.268, 0.33799999999999997]\n"
     ]
    }
   ],
   "source": [
    "project_df_winloss = project_df[\"W/L%\"]\n",
    "project_df_winloss = project_df_winloss.to_frame()\n",
    "project_df_winloss = project_df_winloss.iloc[::-1]\n",
    "winlosslist = project_df_winloss.values.tolist()\n",
    "new_winlosslist = []\n",
    "for x in winlosslist:\n",
    "    for y in x:\n",
    "        new_winlosslist.append(y)\n",
    "print(new_winlosslist)"
   ]
  },
  {
   "cell_type": "markdown",
   "metadata": {},
   "source": [
    "### Create new column with new_winlosslist"
   ]
  },
  {
   "cell_type": "code",
   "execution_count": 130,
   "metadata": {},
   "outputs": [
    {
     "data": {
      "text/html": [
       "<div>\n",
       "<style scoped>\n",
       "    .dataframe tbody tr th:only-of-type {\n",
       "        vertical-align: middle;\n",
       "    }\n",
       "\n",
       "    .dataframe tbody tr th {\n",
       "        vertical-align: top;\n",
       "    }\n",
       "\n",
       "    .dataframe thead th {\n",
       "        text-align: right;\n",
       "    }\n",
       "</style>\n",
       "<table border=\"1\" class=\"dataframe\">\n",
       "  <thead>\n",
       "    <tr style=\"text-align: right;\">\n",
       "      <th></th>\n",
       "      <th>Total Crimes</th>\n",
       "      <th>Total Arrests</th>\n",
       "      <th>% of Crimes Resulting in Arrests</th>\n",
       "      <th>W/L%</th>\n",
       "    </tr>\n",
       "    <tr>\n",
       "      <th>Year</th>\n",
       "      <th></th>\n",
       "      <th></th>\n",
       "      <th></th>\n",
       "      <th></th>\n",
       "    </tr>\n",
       "  </thead>\n",
       "  <tbody>\n",
       "    <tr>\n",
       "      <th>2001</th>\n",
       "      <td>485779</td>\n",
       "      <td>141910</td>\n",
       "      <td>0.29</td>\n",
       "      <td>0.18</td>\n",
       "    </tr>\n",
       "    <tr>\n",
       "      <th>2002</th>\n",
       "      <td>486762</td>\n",
       "      <td>141555</td>\n",
       "      <td>0.29</td>\n",
       "      <td>0.26</td>\n",
       "    </tr>\n",
       "    <tr>\n",
       "      <th>2003</th>\n",
       "      <td>475960</td>\n",
       "      <td>141577</td>\n",
       "      <td>0.30</td>\n",
       "      <td>0.37</td>\n",
       "    </tr>\n",
       "    <tr>\n",
       "      <th>2004</th>\n",
       "      <td>469395</td>\n",
       "      <td>144690</td>\n",
       "      <td>0.31</td>\n",
       "      <td>0.28</td>\n",
       "    </tr>\n",
       "    <tr>\n",
       "      <th>2005</th>\n",
       "      <td>453731</td>\n",
       "      <td>140902</td>\n",
       "      <td>0.31</td>\n",
       "      <td>0.57</td>\n",
       "    </tr>\n",
       "    <tr>\n",
       "      <th>2006</th>\n",
       "      <td>448136</td>\n",
       "      <td>135394</td>\n",
       "      <td>0.30</td>\n",
       "      <td>0.50</td>\n",
       "    </tr>\n",
       "    <tr>\n",
       "      <th>2007</th>\n",
       "      <td>437039</td>\n",
       "      <td>131862</td>\n",
       "      <td>0.30</td>\n",
       "      <td>0.60</td>\n",
       "    </tr>\n",
       "    <tr>\n",
       "      <th>2008</th>\n",
       "      <td>427095</td>\n",
       "      <td>109973</td>\n",
       "      <td>0.26</td>\n",
       "      <td>0.40</td>\n",
       "    </tr>\n",
       "    <tr>\n",
       "      <th>2009</th>\n",
       "      <td>392762</td>\n",
       "      <td>110784</td>\n",
       "      <td>0.28</td>\n",
       "      <td>0.50</td>\n",
       "    </tr>\n",
       "    <tr>\n",
       "      <th>2010</th>\n",
       "      <td>370393</td>\n",
       "      <td>100501</td>\n",
       "      <td>0.27</td>\n",
       "      <td>0.50</td>\n",
       "    </tr>\n",
       "    <tr>\n",
       "      <th>2011</th>\n",
       "      <td>351870</td>\n",
       "      <td>96256</td>\n",
       "      <td>0.27</td>\n",
       "      <td>0.76</td>\n",
       "    </tr>\n",
       "    <tr>\n",
       "      <th>2012</th>\n",
       "      <td>336124</td>\n",
       "      <td>90610</td>\n",
       "      <td>0.27</td>\n",
       "      <td>0.76</td>\n",
       "    </tr>\n",
       "    <tr>\n",
       "      <th>2013</th>\n",
       "      <td>307271</td>\n",
       "      <td>86489</td>\n",
       "      <td>0.28</td>\n",
       "      <td>0.55</td>\n",
       "    </tr>\n",
       "    <tr>\n",
       "      <th>2014</th>\n",
       "      <td>275517</td>\n",
       "      <td>79578</td>\n",
       "      <td>0.29</td>\n",
       "      <td>0.58</td>\n",
       "    </tr>\n",
       "    <tr>\n",
       "      <th>2015</th>\n",
       "      <td>264422</td>\n",
       "      <td>69970</td>\n",
       "      <td>0.26</td>\n",
       "      <td>0.61</td>\n",
       "    </tr>\n",
       "    <tr>\n",
       "      <th>2016</th>\n",
       "      <td>269380</td>\n",
       "      <td>52936</td>\n",
       "      <td>0.20</td>\n",
       "      <td>0.51</td>\n",
       "    </tr>\n",
       "    <tr>\n",
       "      <th>2017</th>\n",
       "      <td>268621</td>\n",
       "      <td>52546</td>\n",
       "      <td>0.20</td>\n",
       "      <td>0.50</td>\n",
       "    </tr>\n",
       "    <tr>\n",
       "      <th>2018</th>\n",
       "      <td>268115</td>\n",
       "      <td>53678</td>\n",
       "      <td>0.20</td>\n",
       "      <td>0.33</td>\n",
       "    </tr>\n",
       "    <tr>\n",
       "      <th>2019</th>\n",
       "      <td>259640</td>\n",
       "      <td>55355</td>\n",
       "      <td>0.21</td>\n",
       "      <td>0.27</td>\n",
       "    </tr>\n",
       "    <tr>\n",
       "      <th>2020</th>\n",
       "      <td>117829</td>\n",
       "      <td>19543</td>\n",
       "      <td>0.17</td>\n",
       "      <td>0.34</td>\n",
       "    </tr>\n",
       "  </tbody>\n",
       "</table>\n",
       "</div>"
      ],
      "text/plain": [
       "      Total Crimes  Total Arrests  % of Crimes Resulting in Arrests  W/L%\n",
       "Year                                                                     \n",
       "2001        485779         141910                              0.29  0.18\n",
       "2002        486762         141555                              0.29  0.26\n",
       "2003        475960         141577                              0.30  0.37\n",
       "2004        469395         144690                              0.31  0.28\n",
       "2005        453731         140902                              0.31  0.57\n",
       "2006        448136         135394                              0.30  0.50\n",
       "2007        437039         131862                              0.30  0.60\n",
       "2008        427095         109973                              0.26  0.40\n",
       "2009        392762         110784                              0.28  0.50\n",
       "2010        370393         100501                              0.27  0.50\n",
       "2011        351870          96256                              0.27  0.76\n",
       "2012        336124          90610                              0.27  0.76\n",
       "2013        307271          86489                              0.28  0.55\n",
       "2014        275517          79578                              0.29  0.58\n",
       "2015        264422          69970                              0.26  0.61\n",
       "2016        269380          52936                              0.20  0.51\n",
       "2017        268621          52546                              0.20  0.50\n",
       "2018        268115          53678                              0.20  0.33\n",
       "2019        259640          55355                              0.21  0.27\n",
       "2020        117829          19543                              0.17  0.34"
      ]
     },
     "execution_count": 130,
     "metadata": {},
     "output_type": "execute_result"
    }
   ],
   "source": [
    "df_merged[\"W/L%\"] = new_winlosslist\n",
    "df_merged"
   ]
  },
  {
   "cell_type": "code",
   "execution_count": null,
   "metadata": {},
   "outputs": [],
   "source": []
  }
 ],
 "metadata": {
  "kernelspec": {
   "display_name": "Python 3",
   "language": "python",
   "name": "python3"
  },
  "language_info": {
   "codemirror_mode": {
    "name": "ipython",
    "version": 3
   },
   "file_extension": ".py",
   "mimetype": "text/x-python",
   "name": "python",
   "nbconvert_exporter": "python",
   "pygments_lexer": "ipython3",
   "version": "3.7.6"
  }
 },
 "nbformat": 4,
 "nbformat_minor": 4
}
